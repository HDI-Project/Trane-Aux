{
 "cells": [
  {
   "cell_type": "code",
   "execution_count": 2,
   "metadata": {},
   "outputs": [],
   "source": [
    "import sys\n",
    "#Path to Trane for imports\n",
    "sys.path.append('/Users/Alexander/Documents/Trane/Trane__HDI_REPO')\n",
    "import pandas as pd\n",
    "import trane\n",
    "import json\n",
    "import random"
   ]
  },
  {
   "cell_type": "code",
   "execution_count": 3,
   "metadata": {},
   "outputs": [],
   "source": [
    "def file_to_table_meta(filepath):\n",
    "    return trane.TableMeta(json.loads(open(filepath).read()))"
   ]
  },
  {
   "cell_type": "code",
   "execution_count": 4,
   "metadata": {},
   "outputs": [],
   "source": [
    "#IMPORT DATA\n",
    "path_to_datasets = '../Trane__Local_Misc/Formatted Datasets/'\n",
    "taxi_data_df = pd.read_csv(path_to_datasets + 'NYC Taxi/taxi.csv')\n",
    "taxi_table_meta = file_to_table_meta(path_to_datasets + 'NYC Taxi/taxi_meta.json')\n",
    "\n",
    "yelp_review_data_df = pd.read_csv(path_to_datasets + 'Yelp Reviews/yelp_review_sampled.csv')\n",
    "yelp_table_meta = file_to_table_meta(path_to_datasets + 'Yelp Reviews/yelp_review_meta.json')\n",
    "\n",
    "github_data_df = pd.read_csv(path_to_datasets + 'Github/github_archive.csv')\n",
    "github_table_meta = file_to_table_meta(path_to_datasets + 'Github/github_meta.json')\n",
    "\n",
    "saudi_er_data_df = pd.read_csv(path_to_datasets + 'Saudi ER/ER.csv')\n",
    "saudi_er_table_meta = file_to_table_meta(path_to_datasets + 'Saudi ER/ER_table_meta.json')"
   ]
  },
  {
   "cell_type": "code",
   "execution_count": 5,
   "metadata": {},
   "outputs": [],
   "source": [
    "NUM_PROBLEMS_TO_GENERATE = 10"
   ]
  },
  {
   "cell_type": "code",
   "execution_count": 6,
   "metadata": {},
   "outputs": [],
   "source": [
    "def generate_probs_and_nl(entity_id_column,\n",
    "                            label_generating_column,\n",
    "                            time_column,\n",
    "                            table_meta,\n",
    "                            filter_column,\n",
    "                            is_pick_random_problems = True):\n",
    "    generator = trane.PredictionProblemGenerator(table_meta, entity_id_column, label_generating_column, time_column, filter_column)\n",
    "    probs = []\n",
    "\n",
    "    all_probs = list(generator.generate())\n",
    "\n",
    "    if is_pick_random_problems:\n",
    "        random.shuffle(all_probs)\n",
    "\n",
    "    for idx, prob in enumerate(all_probs):\n",
    "        probs.append(prob)\n",
    "        if idx + 1 == NUM_PROBLEMS_TO_GENERATE:\n",
    "            break\n",
    "    prediction_problems_json = trane.prediction_problems_to_json_file(\n",
    "        probs, table_meta, entity_id_column, label_generating_column, time_column, \"prediction_problems.json\")\n",
    "\n",
    "    nl_descrips = trane.generate_nl_description(\n",
    "        probs, table_meta, entity_id_column, label_generating_column, time_column, trane.ConstantIntegerCutoffTimes(0))\n",
    "    return probs, nl_descrips"
   ]
  },
  {
   "cell_type": "markdown",
   "metadata": {},
   "source": [
    "# Taxi Data\n",
    "Below, is the code to generate prediction problems and natural language descriptions from the taxi dataset."
   ]
  },
  {
   "cell_type": "code",
   "execution_count": 7,
   "metadata": {},
   "outputs": [
    {
     "name": "stdout",
     "output_type": "stream",
     "text": [
      "['For each id, predict the firstNone the exp of passenger_count, with id less than 0, after pickup_datetime 0.', 'For each id, predict the last passenger_count is equal to 0, with id greater than 0, after pickup_datetime 0.', 'For each id, predict the first the fluctuation of passenger_count is equal to 0, with id equal to 0, after pickup_datetime 0.', 'For each id, predict the number of records, with id equal to 0, after pickup_datetime 0.', 'For each id, predict the first the fluctuation of passenger_count is greater than 0, with id greater than 0, after pickup_datetime 0.', 'For each id, predict the sum ofNone passenger_count is less than 0, after pickup_datetime 0.', 'For each id, predict the sum of passenger_count is greater than 0, after pickup_datetime 0.', 'For each id, predict the last minus first passenger_count is equal to 0, after pickup_datetime 0.', 'For each id, predict the number of records, with id not equal to 0, after pickup_datetime 0.', 'For each id, predict the first the fluctuation of passenger_count is equal to 0, with id greater than 0, after pickup_datetime 0.']\n"
     ]
    }
   ],
   "source": [
    "entity_id_column = 'id'\n",
    "label_generating_column = 'passenger_count'\n",
    "time_column = 'pickup_datetime'\n",
    "filter_column = 'id'\n",
    "table_meta = taxi_table_meta\n",
    "probs, nl_descrips = generate_probs_and_nl(entity_id_column, label_generating_column,\n",
    "                     time_column, table_meta, filter_column)\n",
    "print(nl_descrips)"
   ]
  },
  {
   "cell_type": "markdown",
   "metadata": {},
   "source": [
    "# Yelp Data\n",
    "Below, is the code to generate prediction problems and natural language descriptions from the yelp dataset."
   ]
  },
  {
   "cell_type": "code",
   "execution_count": 8,
   "metadata": {},
   "outputs": [
    {
     "name": "stdout",
     "output_type": "stream",
     "text": [
      "['For each user_id, predict the number of records, with user_id less than 0, after date 0.', 'For each user_id, predict the first stars, after date 0.', 'For each user_id, predict the sum of stars is less than 0, with user_id not equal to 0, after date 0.', 'For each user_id, predict the sum of the fluctuation of stars is greater than 0, with user_id less than 0, after date 0.', 'For each user_id, predict the first the fluctuation of stars is less than 0, after date 0.', 'For each user_id, predict the last the fluctuation of stars is less than 0, with user_id greater than 0, after date 0.', 'For each user_id, predict the last minus first the fluctuation of stars is greater than 0, with user_id less than 0, after date 0.', 'For each user_id, predict the last the fluctuation of stars is equal to 0, with user_id less than 0, after date 0.', 'For each user_id, predict the last minus first stars, after date 0.', 'For each user_id, predict the number of records, with user_id less than 0, after date 0.']\n"
     ]
    }
   ],
   "source": [
    "entity_id_column = 'user_id'\n",
    "label_generating_column = 'stars'\n",
    "time_column = 'date'\n",
    "filter_column = 'user_id'\n",
    "table_meta = yelp_table_meta\n",
    "probs, nl_descrips = generate_probs_and_nl(entity_id_column, label_generating_column,\n",
    "                     time_column, table_meta, filter_column)\n",
    "print(nl_descrips)"
   ]
  },
  {
   "cell_type": "markdown",
   "metadata": {},
   "source": [
    "# Github Data\n",
    "Below, is the code to generate prediction problems and natural language descriptions from the github dataset."
   ]
  },
  {
   "cell_type": "code",
   "execution_count": 9,
   "metadata": {},
   "outputs": [
    {
     "name": "stdout",
     "output_type": "stream",
     "text": [
      "['For each actor, predict the last minus firstNone repo is less than 0, with user_id not equal to 0, after created_at 0.', 'For each actor, predict the sum of the fluctuation of the exp of repo, with user_id less than 0, after created_at 0.', 'For each actor, predict the sum ofNone repo is not equal to 0, with user_id greater than 0, after created_at 0.', 'For each actor, predict the last minus first the fluctuation of repo is equal to 0, with user_id less than 0, after created_at 0.', 'For each actor, predict the number of records, after created_at 0.', 'For each actor, predict the number of records, with user_id equal to 0, after created_at 0.', 'For each actor, predict the last minus first repo, with user_id less than 0, after created_at 0.', 'For each actor, predict the last the exp of repo, with user_id less than 0, after created_at 0.', 'For each actor, predict the number of records, with user_id less than 0, after created_at 0.', 'For each actor, predict the lastNone repo is greater than 0, with user_id equal to 0, after created_at 0.']\n"
     ]
    }
   ],
   "source": [
    "entity_id_column = 'actor'\n",
    "label_generating_column = 'repo'\n",
    "time_column = 'created_at'\n",
    "filter_column = 'user_id'\n",
    "table_meta = github_table_meta\n",
    "probs, nl_descrips = generate_probs_and_nl(entity_id_column, label_generating_column,\n",
    "                     time_column, table_meta, filter_column)\n",
    "print(nl_descrips)"
   ]
  },
  {
   "cell_type": "markdown",
   "metadata": {},
   "source": [
    "# Saudi ER Data\n",
    "Below, is the code to generate prediction problems and natural language descriptions from the Saudi ER Dataset."
   ]
  },
  {
   "cell_type": "code",
   "execution_count": 10,
   "metadata": {},
   "outputs": [
    {
     "name": "stdout",
     "output_type": "stream",
     "text": [
      "['For each PATIENT_ID, predict the firstNone HOSP_CODE is less than 0, after TIME_ARRIVED 0.', 'For each PATIENT_ID, predict the last HOSP_CODE is equal to 0, with PATIENT_ID not equal to 0, after TIME_ARRIVED 0.', 'For each PATIENT_ID, predict the last minus first the exp of HOSP_CODE, with PATIENT_ID equal to 0, after TIME_ARRIVED 0.', 'For each PATIENT_ID, predict the last minus first the fluctuation of HOSP_CODE is less than 0, after TIME_ARRIVED 0.', 'For each PATIENT_ID, predict the firstNone HOSP_CODE, with PATIENT_ID greater than 0, after TIME_ARRIVED 0.', 'For each PATIENT_ID, predict the sum ofNone HOSP_CODE, after TIME_ARRIVED 0.', 'For each PATIENT_ID, predict the first HOSP_CODE is less than 0, with PATIENT_ID greater than 0, after TIME_ARRIVED 0.', 'For each PATIENT_ID, predict the last minus first the fluctuation of HOSP_CODE is less than 0, with PATIENT_ID less than 0, after TIME_ARRIVED 0.', 'For each PATIENT_ID, predict the last HOSP_CODE is not equal to 0, with PATIENT_ID not equal to 0, after TIME_ARRIVED 0.', 'For each PATIENT_ID, predict the sum of the exp of HOSP_CODE, with PATIENT_ID equal to 0, after TIME_ARRIVED 0.']\n"
     ]
    }
   ],
   "source": [
    "entity_id_column = 'PATIENT_ID'\n",
    "label_generating_column = 'HOSP_CODE'\n",
    "time_column = 'TIME_ARRIVED'\n",
    "filter_column = 'PATIENT_ID'\n",
    "table_meta = saudi_er_table_meta\n",
    "probs, nl_descrips = generate_probs_and_nl(entity_id_column, label_generating_column,\n",
    "                     time_column, table_meta, filter_column)\n",
    "print(nl_descrips)"
   ]
  }
 ],
 "metadata": {
  "kernelspec": {
   "display_name": "Python 3",
   "language": "python",
   "name": "python3"
  },
  "language_info": {
   "codemirror_mode": {
    "name": "ipython",
    "version": 3
   },
   "file_extension": ".py",
   "mimetype": "text/x-python",
   "name": "python",
   "nbconvert_exporter": "python",
   "pygments_lexer": "ipython3",
   "version": "3.6.1"
  }
 },
 "nbformat": 4,
 "nbformat_minor": 2
}
