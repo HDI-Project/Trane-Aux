{
 "cells": [
  {
   "cell_type": "code",
   "execution_count": 22,
   "metadata": {},
   "outputs": [],
   "source": [
    "import sys\n",
    "#Path to Trane for imports\n",
    "sys.path.append('/Users/Alexander/Documents/Trane/Trane__HDI_REPO')\n",
    "import pandas as pd\n",
    "import trane\n",
    "import json\n",
    "import random\n",
    "import pickle\n"
   ]
  },
  {
   "cell_type": "code",
   "execution_count": 3,
   "metadata": {},
   "outputs": [],
   "source": [
    "def file_to_table_meta(filepath):\n",
    "    return trane.TableMeta(json.loads(open(filepath).read()))"
   ]
  },
  {
   "cell_type": "code",
   "execution_count": 4,
   "metadata": {},
   "outputs": [],
   "source": [
    "#IMPORT DATA\n",
    "path_to_datasets = '../Trane__Local_Misc/Formatted Datasets/'\n",
    "taxi_data_df = pd.read_csv(path_to_datasets + 'NYC Taxi/taxi.csv')\n",
    "taxi_table_meta = file_to_table_meta(path_to_datasets + 'NYC Taxi/taxi_meta.json')\n",
    "\n",
    "yelp_review_data_df = pd.read_csv(path_to_datasets + 'Yelp Reviews/yelp_review_sampled.csv')\n",
    "yelp_table_meta = file_to_table_meta(path_to_datasets + 'Yelp Reviews/yelp_review_meta.json')\n",
    "\n",
    "github_data_df = pd.read_csv(path_to_datasets + 'Github/github_archive.csv')\n",
    "github_table_meta = file_to_table_meta(path_to_datasets + 'Github/github_meta.json')\n",
    "\n",
    "saudi_er_data_df = pd.read_csv(path_to_datasets + 'Saudi ER/ER.csv')\n",
    "saudi_er_table_meta = file_to_table_meta(path_to_datasets + 'Saudi ER/ER_table_meta.json')"
   ]
  },
  {
   "cell_type": "code",
   "execution_count": 5,
   "metadata": {},
   "outputs": [],
   "source": [
    "NUM_PROBLEMS_TO_GENERATE = 100"
   ]
  },
  {
   "cell_type": "code",
   "execution_count": 20,
   "metadata": {},
   "outputs": [],
   "source": [
    "def generate_probs_and_nl(entity_id_column,\n",
    "                            label_generating_column,\n",
    "                            time_column,\n",
    "                            table_meta,\n",
    "                            filter_column,\n",
    "                            is_pick_random_problems = True):\n",
    "    generator = trane.PredictionProblemGenerator(table_meta, entity_id_column, label_generating_column, time_column, filter_column)\n",
    "    probs = []\n",
    "\n",
    "    all_probs = list(generator.generate())\n",
    "\n",
    "    if is_pick_random_problems:\n",
    "        random.shuffle(all_probs)\n",
    "\n",
    "    for idx, prob in enumerate(all_probs):\n",
    "        probs.append(prob)\n",
    "        if idx + 1 == NUM_PROBLEMS_TO_GENERATE:\n",
    "            break\n",
    "    prediction_problems_json = trane.prediction_problems_to_json_file(\n",
    "        probs, table_meta, entity_id_column, label_generating_column, time_column, \"prediction_problems.json\")\n",
    "\n",
    "    nl_descrips = trane.generate_nl_description(\n",
    "        probs, table_meta, entity_id_column, label_generating_column, time_column, trane.ConstantIntegerCutoffTimes(0))\n",
    "    return probs, nl_descrips\n",
    "def save_obj(obj, name):\n",
    "    with open('pickled_objects/'+ name + '.pkl', 'wb') as f:\n",
    "        pickle.dump(obj, f, pickle.HIGHEST_PROTOCOL)\n",
    "def load_obj(name):\n",
    "    with open('pickled_objects/' + name + '.pkl', 'rb') as f:\n",
    "        return pickle.load(f)"
   ]
  },
  {
   "cell_type": "markdown",
   "metadata": {},
   "source": [
    "# Taxi Data\n",
    "Below, is the code to generate prediction problems and natural language descriptions from the taxi dataset."
   ]
  },
  {
   "cell_type": "code",
   "execution_count": 1,
   "metadata": {},
   "outputs": [
    {
     "ename": "NameError",
     "evalue": "name 'taxi_table_meta' is not defined",
     "output_type": "error",
     "traceback": [
      "\u001b[0;31m---------------------------------------------------------------------------\u001b[0m",
      "\u001b[0;31mNameError\u001b[0m                                 Traceback (most recent call last)",
      "\u001b[0;32m<ipython-input-1-f37b2b379200>\u001b[0m in \u001b[0;36m<module>\u001b[0;34m()\u001b[0m\n\u001b[1;32m      3\u001b[0m \u001b[0mtime_column\u001b[0m \u001b[0;34m=\u001b[0m \u001b[0;34m'pickup_datetime'\u001b[0m\u001b[0;34m\u001b[0m\u001b[0m\n\u001b[1;32m      4\u001b[0m \u001b[0mfilter_column\u001b[0m \u001b[0;34m=\u001b[0m \u001b[0;34m'id'\u001b[0m\u001b[0;34m\u001b[0m\u001b[0m\n\u001b[0;32m----> 5\u001b[0;31m \u001b[0mtable_meta\u001b[0m \u001b[0;34m=\u001b[0m \u001b[0mtaxi_table_meta\u001b[0m\u001b[0;34m\u001b[0m\u001b[0m\n\u001b[0m\u001b[1;32m      6\u001b[0m probs, nl_descrips = generate_probs_and_nl(entity_id_column, label_generating_column,\n\u001b[1;32m      7\u001b[0m                      time_column, table_meta, filter_column)\n",
      "\u001b[0;31mNameError\u001b[0m: name 'taxi_table_meta' is not defined"
     ]
    }
   ],
   "source": [
    "entity_id_column = 'id'\n",
    "label_generating_column = 'passenger_count'\n",
    "time_column = 'pickup_datetime'\n",
    "filter_column = 'id'\n",
    "table_meta = taxi_table_meta\n",
    "probs, nl_descrips = generate_probs_and_nl(entity_id_column, label_generating_column,\n",
    "                     time_column, table_meta, filter_column)\n",
    "print(nl_descrips)\n"
   ]
  },
  {
   "cell_type": "markdown",
   "metadata": {},
   "source": [
    "# Yelp Data\n",
    "Below, is the code to generate prediction problems and natural language descriptions from the yelp dataset."
   ]
  },
  {
   "cell_type": "code",
   "execution_count": 16,
   "metadata": {
    "collapsed": true
   },
   "outputs": [
    {
     "name": "stdout",
     "output_type": "stream",
     "text": [
      "['For each user_id, predict the number of records, after date 0.', 'For each user_id, predict the number of records, after date 0.', 'For each user_id, predict the last minus firstNone stars is greater than 0, after date 0.', 'For each user_id, predict whether the {op} records, after date 0.', 'For each user_id, predict the last minus first the fluctuation of the exp of stars, after date 0.', 'For each user_id, predict the sum ofNone stars is less than 0, after date 0.', 'For each user_id, predict the lastNone stars is not equal to 0, after date 0.', 'For each user_id, predict the first stars, after date 0.', 'For each user_id, predict the sum of the exp of stars, after date 0.', 'For each user_id, predict the last minus first stars, after date 0.', 'For each user_id, predict the last stars, after date 0.', 'For each user_id, predict whether the {op} stars is not equal to 0, after date 0.', 'For each user_id, predict the sum of the fluctuation of stars, after date 0.', 'For each user_id, predict the last the exp of stars, after date 0.', 'For each user_id, predict the sum of the fluctuation of the exp of stars, after date 0.', 'For each user_id, predict the firstNone stars is not equal to 0, after date 0.', 'For each user_id, predict the sum ofNone stars, after date 0.', 'For each user_id, predict the lastNone the exp of stars, after date 0.', 'For each user_id, predict whether the {op} stars is equal to 0, after date 0.', 'For each user_id, predict the number of records whose stars is equal to 0, after date 0.', 'For each user_id, predict the firstNone stars, after date 0.', 'For each user_id, predict the last minus first the fluctuation of stars, after date 0.', 'For each user_id, predict the lastNone stars is equal to 0, after date 0.', 'For each user_id, predict the number of records, after date 0.', 'For each user_id, predict whether the {op} records, after date 0.', 'For each user_id, predict whether the {op} stars is less than 0, after date 0.', 'For each user_id, predict the sum ofNone the exp of stars, after date 0.', 'For each user_id, predict the sum ofNone stars is not equal to 0, after date 0.', 'For each user_id, predict the last minus firstNone stars is less than 0, after date 0.', 'For each user_id, predict whether the {op} records, after date 0.', 'For each user_id, predict the last the fluctuation of stars, after date 0.', 'For each user_id, predict the number of records, after date 0.', 'For each user_id, predict the sum ofNone stars is greater than 0, after date 0.', 'For each user_id, predict the firstNone stars is equal to 0, after date 0.', 'For each user_id, predict the number of records, after date 0.', 'For each user_id, predict the last minus firstNone stars is not equal to 0, after date 0.', 'For each user_id, predict the sum of stars, after date 0.', 'For each user_id, predict the last minus firstNone stars, after date 0.', 'For each user_id, predict the last minus first the exp of stars, after date 0.', 'For each user_id, predict the firstNone the exp of stars, after date 0.', 'For each user_id, predict whether the {op} stars is greater than 0, after date 0.', 'For each user_id, predict the number of records, after date 0.', 'For each user_id, predict the first the fluctuation of the exp of stars, after date 0.', 'For each user_id, predict the lastNone stars is less than 0, after date 0.', 'For each user_id, predict the number of records, after date 0.', 'For each user_id, predict whether the {op} records, after date 0.', 'For each user_id, predict the number of records, after date 0.', 'For each user_id, predict the last the fluctuation of the exp of stars, after date 0.', 'For each user_id, predict the last minus firstNone the exp of stars, after date 0.', 'For each user_id, predict the lastNone stars is greater than 0, after date 0.', 'For each user_id, predict whether the {op} stars is greater than 0, after date 0.', 'For each user_id, predict the firstNone stars is greater than 0, after date 0.', 'For each user_id, predict the number of records, after date 0.', 'For each user_id, predict the number of records whose stars is greater than 0, after date 0.', 'For each user_id, predict the first the exp of stars, after date 0.', 'For each user_id, predict the number of records whose stars is not equal to 0, after date 0.', 'For each user_id, predict the number of records whose stars is less than 0, after date 0.', 'For each user_id, predict the lastNone stars, after date 0.', 'For each user_id, predict the firstNone stars is less than 0, after date 0.', 'For each user_id, predict the first the fluctuation of stars, after date 0.', 'For each user_id, predict the sum ofNone stars is equal to 0, after date 0.', 'For each user_id, predict whether the {op} stars is equal to 0, after date 0.', 'For each user_id, predict whether the {op} stars is less than 0, after date 0.', 'For each user_id, predict whether the {op} stars is not equal to 0, after date 0.', 'For each user_id, predict the last minus firstNone stars is equal to 0, after date 0.', 'For each user_id, predict the number of records, after date 0.']\n",
      "AllFilterOp(user_id)->GreaterRowOp(stars)->ObjectFrequencyTransformationOp(stars)->CountAggregationOp(stars)\n",
      "0\n",
      "AllFilterOp(user_id)->NeqRowOp(stars)->ObjectFrequencyTransformationOp(stars)->CountAggregationOp(stars)\n",
      "1\n",
      "AllFilterOp(user_id)->GreaterRowOp(stars)->ObjectFrequencyTransformationOp(stars)->LMFAggregationOp(stars)\n",
      "2\n",
      "AllFilterOp(user_id)->NeqRowOp(stars)->IdentityTransformationOp(stars)->CountAggregationOp(stars)\n",
      "3\n",
      "AllFilterOp(user_id)->ExpRowOp(stars)->DiffTransformationOp(stars)->LMFAggregationOp(stars)\n",
      "4\n",
      "AllFilterOp(user_id)->LessRowOp(stars)->ObjectFrequencyTransformationOp(stars)->SumAggregationOp(stars)\n",
      "5\n",
      "AllFilterOp(user_id)->NeqRowOp(stars)->ObjectFrequencyTransformationOp(stars)->LastAggregationOp(stars)\n",
      "6\n",
      "AllFilterOp(user_id)->IdentityRowOp(stars)->IdentityTransformationOp(stars)->FirstAggregationOp(stars)\n",
      "7\n",
      "AllFilterOp(user_id)->ExpRowOp(stars)->IdentityTransformationOp(stars)->SumAggregationOp(stars)\n",
      "8\n",
      "AllFilterOp(user_id)->IdentityRowOp(stars)->IdentityTransformationOp(stars)->LMFAggregationOp(stars)\n",
      "9\n",
      "AllFilterOp(user_id)->IdentityRowOp(stars)->IdentityTransformationOp(stars)->LastAggregationOp(stars)\n",
      "10\n",
      "AllFilterOp(user_id)->NeqRowOp(stars)->IdentityTransformationOp(stars)->FirstAggregationOp(stars)\n",
      "11\n",
      "AllFilterOp(user_id)->IdentityRowOp(stars)->DiffTransformationOp(stars)->SumAggregationOp(stars)\n",
      "12\n",
      "AllFilterOp(user_id)->ExpRowOp(stars)->IdentityTransformationOp(stars)->LastAggregationOp(stars)\n",
      "13\n",
      "AllFilterOp(user_id)->ExpRowOp(stars)->DiffTransformationOp(stars)->SumAggregationOp(stars)\n",
      "14\n",
      "AllFilterOp(user_id)->NeqRowOp(stars)->ObjectFrequencyTransformationOp(stars)->FirstAggregationOp(stars)\n",
      "15\n",
      "AllFilterOp(user_id)->IdentityRowOp(stars)->ObjectFrequencyTransformationOp(stars)->SumAggregationOp(stars)\n",
      "16\n",
      "AllFilterOp(user_id)->ExpRowOp(stars)->ObjectFrequencyTransformationOp(stars)->LastAggregationOp(stars)\n",
      "17\n",
      "AllFilterOp(user_id)->EqRowOp(stars)->IdentityTransformationOp(stars)->LastAggregationOp(stars)\n",
      "18\n",
      "AllFilterOp(user_id)->EqRowOp(stars)->IdentityTransformationOp(stars)->SumAggregationOp(stars)\n",
      "19\n",
      "AllFilterOp(user_id)->IdentityRowOp(stars)->ObjectFrequencyTransformationOp(stars)->FirstAggregationOp(stars)\n",
      "20\n",
      "AllFilterOp(user_id)->IdentityRowOp(stars)->DiffTransformationOp(stars)->LMFAggregationOp(stars)\n",
      "21\n",
      "AllFilterOp(user_id)->EqRowOp(stars)->ObjectFrequencyTransformationOp(stars)->LastAggregationOp(stars)\n",
      "22\n",
      "AllFilterOp(user_id)->ExpRowOp(stars)->DiffTransformationOp(stars)->CountAggregationOp(stars)\n",
      "23\n",
      "AllFilterOp(user_id)->LessRowOp(stars)->IdentityTransformationOp(stars)->CountAggregationOp(stars)\n",
      "24\n",
      "AllFilterOp(user_id)->LessRowOp(stars)->IdentityTransformationOp(stars)->LastAggregationOp(stars)\n",
      "25\n",
      "AllFilterOp(user_id)->ExpRowOp(stars)->ObjectFrequencyTransformationOp(stars)->SumAggregationOp(stars)\n",
      "26\n",
      "AllFilterOp(user_id)->NeqRowOp(stars)->ObjectFrequencyTransformationOp(stars)->SumAggregationOp(stars)\n",
      "27\n",
      "AllFilterOp(user_id)->LessRowOp(stars)->ObjectFrequencyTransformationOp(stars)->LMFAggregationOp(stars)\n",
      "28\n",
      "AllFilterOp(user_id)->GreaterRowOp(stars)->IdentityTransformationOp(stars)->CountAggregationOp(stars)\n",
      "29\n",
      "AllFilterOp(user_id)->IdentityRowOp(stars)->DiffTransformationOp(stars)->LastAggregationOp(stars)\n",
      "30\n",
      "AllFilterOp(user_id)->LessRowOp(stars)->ObjectFrequencyTransformationOp(stars)->CountAggregationOp(stars)\n",
      "31\n",
      "AllFilterOp(user_id)->GreaterRowOp(stars)->ObjectFrequencyTransformationOp(stars)->SumAggregationOp(stars)\n",
      "32\n",
      "AllFilterOp(user_id)->EqRowOp(stars)->ObjectFrequencyTransformationOp(stars)->FirstAggregationOp(stars)\n",
      "33\n",
      "AllFilterOp(user_id)->IdentityRowOp(stars)->IdentityTransformationOp(stars)->CountAggregationOp(stars)\n",
      "34\n",
      "AllFilterOp(user_id)->NeqRowOp(stars)->ObjectFrequencyTransformationOp(stars)->LMFAggregationOp(stars)\n",
      "35\n",
      "AllFilterOp(user_id)->IdentityRowOp(stars)->IdentityTransformationOp(stars)->SumAggregationOp(stars)\n",
      "36\n",
      "AllFilterOp(user_id)->IdentityRowOp(stars)->ObjectFrequencyTransformationOp(stars)->LMFAggregationOp(stars)\n",
      "37\n",
      "AllFilterOp(user_id)->ExpRowOp(stars)->IdentityTransformationOp(stars)->LMFAggregationOp(stars)\n",
      "38\n",
      "AllFilterOp(user_id)->ExpRowOp(stars)->ObjectFrequencyTransformationOp(stars)->FirstAggregationOp(stars)\n",
      "39\n",
      "AllFilterOp(user_id)->GreaterRowOp(stars)->IdentityTransformationOp(stars)->LastAggregationOp(stars)\n",
      "40\n",
      "AllFilterOp(user_id)->ExpRowOp(stars)->ObjectFrequencyTransformationOp(stars)->CountAggregationOp(stars)\n",
      "41\n",
      "AllFilterOp(user_id)->ExpRowOp(stars)->DiffTransformationOp(stars)->FirstAggregationOp(stars)\n",
      "42\n",
      "AllFilterOp(user_id)->LessRowOp(stars)->ObjectFrequencyTransformationOp(stars)->LastAggregationOp(stars)\n",
      "43\n",
      "AllFilterOp(user_id)->ExpRowOp(stars)->IdentityTransformationOp(stars)->CountAggregationOp(stars)\n",
      "44\n",
      "AllFilterOp(user_id)->EqRowOp(stars)->IdentityTransformationOp(stars)->CountAggregationOp(stars)\n",
      "45\n",
      "AllFilterOp(user_id)->EqRowOp(stars)->ObjectFrequencyTransformationOp(stars)->CountAggregationOp(stars)\n",
      "46\n",
      "AllFilterOp(user_id)->ExpRowOp(stars)->DiffTransformationOp(stars)->LastAggregationOp(stars)\n",
      "47\n",
      "AllFilterOp(user_id)->ExpRowOp(stars)->ObjectFrequencyTransformationOp(stars)->LMFAggregationOp(stars)\n",
      "48\n",
      "AllFilterOp(user_id)->GreaterRowOp(stars)->ObjectFrequencyTransformationOp(stars)->LastAggregationOp(stars)\n",
      "49\n",
      "AllFilterOp(user_id)->GreaterRowOp(stars)->IdentityTransformationOp(stars)->FirstAggregationOp(stars)\n",
      "50\n",
      "AllFilterOp(user_id)->GreaterRowOp(stars)->ObjectFrequencyTransformationOp(stars)->FirstAggregationOp(stars)\n",
      "51\n",
      "AllFilterOp(user_id)->IdentityRowOp(stars)->ObjectFrequencyTransformationOp(stars)->CountAggregationOp(stars)\n",
      "52\n",
      "AllFilterOp(user_id)->GreaterRowOp(stars)->IdentityTransformationOp(stars)->SumAggregationOp(stars)\n",
      "53\n",
      "AllFilterOp(user_id)->ExpRowOp(stars)->IdentityTransformationOp(stars)->FirstAggregationOp(stars)\n",
      "54\n",
      "AllFilterOp(user_id)->NeqRowOp(stars)->IdentityTransformationOp(stars)->SumAggregationOp(stars)\n",
      "55\n",
      "AllFilterOp(user_id)->LessRowOp(stars)->IdentityTransformationOp(stars)->SumAggregationOp(stars)\n",
      "56\n",
      "AllFilterOp(user_id)->IdentityRowOp(stars)->ObjectFrequencyTransformationOp(stars)->LastAggregationOp(stars)\n",
      "57\n",
      "AllFilterOp(user_id)->LessRowOp(stars)->ObjectFrequencyTransformationOp(stars)->FirstAggregationOp(stars)\n",
      "58\n",
      "AllFilterOp(user_id)->IdentityRowOp(stars)->DiffTransformationOp(stars)->FirstAggregationOp(stars)\n",
      "59\n",
      "AllFilterOp(user_id)->EqRowOp(stars)->ObjectFrequencyTransformationOp(stars)->SumAggregationOp(stars)\n",
      "60\n",
      "AllFilterOp(user_id)->EqRowOp(stars)->IdentityTransformationOp(stars)->FirstAggregationOp(stars)\n",
      "61\n",
      "AllFilterOp(user_id)->LessRowOp(stars)->IdentityTransformationOp(stars)->FirstAggregationOp(stars)\n",
      "62\n",
      "AllFilterOp(user_id)->NeqRowOp(stars)->IdentityTransformationOp(stars)->LastAggregationOp(stars)\n",
      "63\n",
      "AllFilterOp(user_id)->EqRowOp(stars)->ObjectFrequencyTransformationOp(stars)->LMFAggregationOp(stars)\n",
      "64\n",
      "AllFilterOp(user_id)->IdentityRowOp(stars)->DiffTransformationOp(stars)->CountAggregationOp(stars)\n",
      "65\n"
     ]
    }
   ],
   "source": [
    "entity_id_column = 'user_id'\n",
    "label_generating_column = 'stars'\n",
    "time_column = 'date'\n",
    "filter_column = 'user_id'\n",
    "table_meta = yelp_table_meta\n",
    "probs, nl_descrips = generate_probs_and_nl(entity_id_column, label_generating_column,\n",
    "                     time_column, table_meta, filter_column)\n"
   ]
  },
  {
   "cell_type": "code",
   "execution_count": 24,
   "metadata": {},
   "outputs": [
    {
     "name": "stdout",
     "output_type": "stream",
     "text": [
      "AllFilterOp(user_id)->IdentityRowOp(stars)->DiffTransformationOp(stars)->SumAggregationOp(stars)\n"
     ]
    }
   ],
   "source": [
    "# print(nl_descrips)\n",
    "# for idx, prob in enumerate(probs):\n",
    "#     print(prob)\n",
    "#     print(idx)\n",
    "# print(probs[12])\n",
    "# save_obj(probs[12], \"yelp_prediction_problem\")\n",
    "print(load_obj(\"yelp_prediction_problem\"))"
   ]
  },
  {
   "cell_type": "markdown",
   "metadata": {},
   "source": [
    "# Github Data\n",
    "Below, is the code to generate prediction problems and natural language descriptions from the github dataset."
   ]
  },
  {
   "cell_type": "code",
   "execution_count": 9,
   "metadata": {},
   "outputs": [
    {
     "name": "stdout",
     "output_type": "stream",
     "text": [
      "['For each actor, predict the last minus firstNone repo is less than 0, with user_id not equal to 0, after created_at 0.', 'For each actor, predict the sum of the fluctuation of the exp of repo, with user_id less than 0, after created_at 0.', 'For each actor, predict the sum ofNone repo is not equal to 0, with user_id greater than 0, after created_at 0.', 'For each actor, predict the last minus first the fluctuation of repo is equal to 0, with user_id less than 0, after created_at 0.', 'For each actor, predict the number of records, after created_at 0.', 'For each actor, predict the number of records, with user_id equal to 0, after created_at 0.', 'For each actor, predict the last minus first repo, with user_id less than 0, after created_at 0.', 'For each actor, predict the last the exp of repo, with user_id less than 0, after created_at 0.', 'For each actor, predict the number of records, with user_id less than 0, after created_at 0.', 'For each actor, predict the lastNone repo is greater than 0, with user_id equal to 0, after created_at 0.']\n"
     ]
    }
   ],
   "source": [
    "entity_id_column = 'actor'\n",
    "label_generating_column = 'repo'\n",
    "time_column = 'created_at'\n",
    "filter_column = 'user_id'\n",
    "table_meta = github_table_meta\n",
    "probs, nl_descrips = generate_probs_and_nl(entity_id_column, label_generating_column,\n",
    "                     time_column, table_meta, filter_column)\n",
    "print(nl_descrips)"
   ]
  },
  {
   "cell_type": "markdown",
   "metadata": {},
   "source": [
    "# Saudi ER Data\n",
    "Below, is the code to generate prediction problems and natural language descriptions from the Saudi ER Dataset."
   ]
  },
  {
   "cell_type": "code",
   "execution_count": 10,
   "metadata": {},
   "outputs": [
    {
     "name": "stdout",
     "output_type": "stream",
     "text": [
      "['For each PATIENT_ID, predict the firstNone HOSP_CODE is less than 0, after TIME_ARRIVED 0.', 'For each PATIENT_ID, predict the last HOSP_CODE is equal to 0, with PATIENT_ID not equal to 0, after TIME_ARRIVED 0.', 'For each PATIENT_ID, predict the last minus first the exp of HOSP_CODE, with PATIENT_ID equal to 0, after TIME_ARRIVED 0.', 'For each PATIENT_ID, predict the last minus first the fluctuation of HOSP_CODE is less than 0, after TIME_ARRIVED 0.', 'For each PATIENT_ID, predict the firstNone HOSP_CODE, with PATIENT_ID greater than 0, after TIME_ARRIVED 0.', 'For each PATIENT_ID, predict the sum ofNone HOSP_CODE, after TIME_ARRIVED 0.', 'For each PATIENT_ID, predict the first HOSP_CODE is less than 0, with PATIENT_ID greater than 0, after TIME_ARRIVED 0.', 'For each PATIENT_ID, predict the last minus first the fluctuation of HOSP_CODE is less than 0, with PATIENT_ID less than 0, after TIME_ARRIVED 0.', 'For each PATIENT_ID, predict the last HOSP_CODE is not equal to 0, with PATIENT_ID not equal to 0, after TIME_ARRIVED 0.', 'For each PATIENT_ID, predict the sum of the exp of HOSP_CODE, with PATIENT_ID equal to 0, after TIME_ARRIVED 0.']\n"
     ]
    }
   ],
   "source": [
    "entity_id_column = 'PATIENT_ID'\n",
    "label_generating_column = 'HOSP_CODE'\n",
    "time_column = 'TIME_ARRIVED'\n",
    "filter_column = 'PATIENT_ID'\n",
    "table_meta = saudi_er_table_meta\n",
    "probs, nl_descrips = generate_probs_and_nl(entity_id_column, label_generating_column,\n",
    "                     time_column, table_meta, filter_column)\n",
    "print(nl_descrips)"
   ]
  }
 ],
 "metadata": {
  "kernelspec": {
   "display_name": "Python 3",
   "language": "python",
   "name": "python3"
  },
  "language_info": {
   "codemirror_mode": {
    "name": "ipython",
    "version": 3
   },
   "file_extension": ".py",
   "mimetype": "text/x-python",
   "name": "python",
   "nbconvert_exporter": "python",
   "pygments_lexer": "ipython3",
   "version": "3.6.1"
  }
 },
 "nbformat": 4,
 "nbformat_minor": 2
}
