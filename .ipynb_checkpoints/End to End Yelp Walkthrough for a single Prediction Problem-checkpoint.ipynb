{
 "cells": [
  {
   "cell_type": "markdown",
   "metadata": {},
   "source": [
    "## Imports and Helper Functions"
   ]
  },
  {
   "cell_type": "code",
   "execution_count": 1,
   "metadata": {},
   "outputs": [],
   "source": [
    "import sys\n",
    "#Path to Trane for imports\n",
    "sys.path.append('/Users/Alexander/Documents/Trane/Trane__HDI_REPO')\n",
    "path_to_datasets = '../Trane__Local_Misc/Formatted Datasets/Yelp Reviews v2/'\n",
    "import pandas as pd\n",
    "import trane\n",
    "import json\n",
    "import random\n",
    "import datetime\n",
    "import pickle\n",
    "import featuretools as ft\n",
    "import numpy as np\n",
    "import matplotlib.pyplot as plt\n",
    "from sklearn import linear_model, decomposition, datasets\n",
    "from sklearn.metrics import accuracy_score\n",
    "from sklearn import metrics\n",
    "import scikitplot as skplt\n",
    "\n",
    "def save_obj(obj, name):\n",
    "    with open('pickled_objects/'+ name + '.pkl', 'wb') as f:\n",
    "        pickle.dump(obj, f, pickle.HIGHEST_PROTOCOL)\n",
    "def load_obj(name):\n",
    "    with open('pickled_objects/' + name + '.pkl', 'rb') as f:\n",
    "        return pickle.load(f)\n",
    "def generate_probs_and_nl(entity_id_column,\n",
    "                            label_generating_column,\n",
    "                            time_column,\n",
    "                            table_meta,\n",
    "                            filter_column,\n",
    "                            is_pick_random_problems = True):\n",
    "    generator = trane.PredictionProblemGenerator(table_meta, entity_id_column, label_generating_column, time_column, filter_column)\n",
    "    probs = []\n",
    "\n",
    "    all_probs = list(generator.generate())\n",
    "\n",
    "    if is_pick_random_problems:\n",
    "        random.shuffle(all_probs)\n",
    "\n",
    "    for idx, prob in enumerate(all_probs):\n",
    "        probs.append(prob)\n",
    "        if idx + 1 == NUM_PROBLEMS_TO_GENERATE:\n",
    "            break\n",
    "    prediction_problems_json = trane.prediction_problems_to_json_file(\n",
    "        probs, table_meta, entity_id_column, label_generating_column, time_column, \"prediction_problems.json\")\n",
    "\n",
    "    nl_descrips = trane.generate_nl_description(\n",
    "        probs, table_meta, entity_id_column, label_generating_column, time_column, trane.ConstantIntegerCutoffTimes(0))\n",
    "    return probs, nl_descrips\n",
    "def convert(str, format = None):\n",
    "    return datetime.datetime.strptime(str, format)\n",
    "def file_to_table_meta(filepath):\n",
    "    return trane.TableMeta(json.loads(open(filepath).read()))"
   ]
  },
  {
   "cell_type": "markdown",
   "metadata": {},
   "source": [
    "## Load, Format and Sample Data"
   ]
  },
  {
   "cell_type": "code",
   "execution_count": 2,
   "metadata": {},
   "outputs": [
    {
     "name": "stdout",
     "output_type": "stream",
     "text": [
      "Sampling Reuslts ---\n",
      "Number of reviews: 1000\n",
      "Number of businesses: 974\n",
      "Number of users: 45\n",
      "Number of checkins: 78792\n"
     ]
    }
   ],
   "source": [
    "yelp_review_df = pd.read_csv(path_to_datasets + 'yelp_review.csv')\n",
    "yelp_checkin_df = pd.read_csv(path_to_datasets + 'yelp_checkin.csv')\n",
    "yelp_business_df = pd.read_csv(path_to_datasets + 'yelp_business.csv')\n",
    "yelp_user_df = pd.read_csv(path_to_datasets + 'yelp_user.csv')\n",
    "\n",
    "sampled_yelp_review_df = yelp_review_df.head(1000)\n",
    "sampled_business_ids = sampled_yelp_review_df['business_id'].unique()\n",
    "sampled_user_ids = sampled_yelp_review_df['user_id'].unique()\n",
    "sampled_review_ids = sampled_yelp_review_df['review_id'].unique()\n",
    "sampled_yelp_checkin_df = yelp_checkin_df[yelp_checkin_df['business_id'].isin(sampled_business_ids)]\n",
    "sampled_yelp_business_df = yelp_business_df[yelp_business_df['business_id'].isin(sampled_business_ids)] \n",
    "sampled_yelp_user_df = yelp_user_df[yelp_user_df['user_id'].isin(sampled_user_ids)]\n",
    "\n",
    "assert(len(sampled_business_ids) == len(sampled_yelp_business_df))\n",
    "assert(len(sampled_user_ids) == len(sampled_yelp_user_df))\n",
    "assert(len(sampled_review_ids) == len(sampled_yelp_review_df))\n",
    "\n",
    "print(\"Sampling Reuslts ---\")\n",
    "print(\"Number of reviews: {}\".format(len(sampled_yelp_review_df)))\n",
    "print(\"Number of businesses: {}\".format(len(sampled_business_ids)))\n",
    "print(\"Number of users: {}\".format(len(sampled_user_ids)))\n",
    "print(\"Number of checkins: {}\".format(len(sampled_yelp_checkin_df)))\n",
    "\n",
    "merge_step_1 = pd.merge(sampled_yelp_review_df, sampled_yelp_user_df, how = 'left', on ='user_id')\n",
    "merge_step_2 = pd.merge(merge_step_1, sampled_yelp_business_df, how = 'left', on = 'business_id')\n",
    "merge_step_3 = pd.merge(merge_step_2, sampled_yelp_checkin_df, how = 'right', on = 'business_id')\n",
    "merged_df = merge_step_3\n",
    "merged_df['date'] = merged_df['date'].apply(str)\n",
    "merged_df['date'] = merged_df['date'].apply(convert, format = '%Y-%m-%d')\n",
    "merged_df = merged_df.rename(columns = {'stars_x': 'stars'})\n",
    "\n",
    "distinct_business_ids_in_merged_df = merged_df['business_id'].unique()\n",
    "#Note merged_df only contains 959 distinct business_ids. Checkins only contains information from 959 businesses.\n",
    "#    That's why merged_df only has 959 distinct business_ids, as opposed to the 974 unique business_ids \n",
    "#    contained in the sample_yelp_review_df.\n",
    "#Note merged_df contains more than the 78792 unique check-ins because there are multiple reviews for some business_ids so\n",
    "#    each unique review_id is matched to a new business_id. There are 1000 review_ids, but only 974 business_ids.\n",
    "#    "
   ]
  },
  {
   "cell_type": "markdown",
   "metadata": {},
   "source": [
    "## Prediction Problem and Trane Inputs Definition"
   ]
  },
  {
   "cell_type": "code",
   "execution_count": 12,
   "metadata": {},
   "outputs": [
    {
     "name": "stdout",
     "output_type": "stream",
     "text": [
      "AllFilterOp(user_id)->IdentityRowOp(stars)->DiffTransformationOp(stars)->SumAggregationOp(stars)->GreaterRowOp(stars)\n"
     ]
    }
   ],
   "source": [
    "print(prediction_problem)"
   ]
  },
  {
   "cell_type": "code",
   "execution_count": null,
   "metadata": {},
   "outputs": [],
   "source": []
  },
  {
   "cell_type": "code",
   "execution_count": 3,
   "metadata": {},
   "outputs": [],
   "source": [
    "#TODO: print this value in the demo. Add target_entity_id to print for Prediction Problem. label generating column,\n",
    "# thresholds (hyper-parameters),\n",
    "#\n",
    "#TODO: sort all data by time in preprocessing\n",
    "prediction_problem = load_obj(\"yelp_prediction_problem\")\n",
    "\n",
    "\n",
    "#TODO: #Notes: read the following values from the loaded object.\n",
    "table_meta = file_to_table_meta(path_to_datasets + \"meta.json\")\n",
    "entity_id_column = 'business_id'\n",
    "label_generating_column = 'stars' #stars_x not stars because there are two columns with the name stars due to the merge\n",
    "time_column = 'date'\n",
    "filter_column = 'user_id'\n",
    "\n",
    "#Note:\n",
    "#The prediction problem currently outputs a float. I add a greater row op to turn the \n",
    "#output into a boolean, thus the prediction problem now outputs binary labels.\n",
    "greaterRowOp = trane.ops.GreaterRowOp(label_generating_column)\n",
    "greaterRowOp.set_thresholds(table_meta)\n",
    "prediction_problem.operations.append(greaterRowOp)\n",
    "\n",
    "\n",
    "\n",
    "trane.prediction_problems_to_json_file([prediction_problem], table_meta, \n",
    "                                       entity_id_column, label_generating_column, \n",
    "                                       time_column, \n",
    "                                       \"yelp_prediction_problem.json\")\n",
    "\n",
    "labeler = trane.Labeler()\n",
    "entity_to_data_dict = trane.df_group_by_entity_id(merged_df, entity_id_column)\n",
    "cutoff_time = datetime.date(2014, 1, 1)\n",
    "#Note:\n",
    "# The first date is: Timestamp('2007-06-12 00:00:00')\n",
    "# The last date is: Timestamp('2017-12-10 00:00:00')\n",
    "entity_to_data_and_cutoff_dict = trane.ConstantDatetimeCutoffTime(cutoff_time).generate_cutoffs(entity_to_data_dict)\n",
    "labels = labeler.execute(entity_to_data_and_cutoff_dict, \"yelp_prediction_problem.json\")\n",
    "first_label = labels[0]\n",
    "#Note:\n",
    "# This next step is done to remove None values. This is because the prediction problem for \n",
    "# the data before cutoff time only has access to that data, which is occasionally not enough data\n",
    "# to properly execute the problem, resulting in rows with output of None.\n",
    "first_label = first_label.dropna() "
   ]
  },
  {
   "cell_type": "markdown",
   "metadata": {},
   "source": [
    "## Deep Feature Synthesis with Feature Tools"
   ]
  },
  {
   "cell_type": "code",
   "execution_count": 4,
   "metadata": {},
   "outputs": [],
   "source": [
    "entities = {\n",
    "    \"business\": (sampled_yelp_business_df, \"business_id\"),\n",
    "    \"reviews\": (sampled_yelp_review_df, \"review_id\"),\n",
    "    \"users\": (sampled_yelp_user_df, \"user_id\"),\n",
    "    \"checkins\": (sampled_yelp_checkin_df, \"checkin_id\")\n",
    "}\n",
    "relationships = [\n",
    "    (\"business\", \"business_id\", \"reviews\", \"business_id\"),\n",
    "    (\"users\", \"user_id\", \"reviews\", \"user_id\"),\n",
    "    (\"business\", \"business_id\", \"checkins\", \"business_id\")\n",
    "]\n",
    "cutoff_times = [[_, cutoff_time] for _ in sampled_business_ids]\n",
    "cutoff_times = pd.DataFrame(cutoff_times, columns = ['business_id', 'cutoff_time'])\n",
    "\n",
    "feature_matrix, feature_definitions = ft.dfs(entities = entities,\n",
    "    relationships = relationships,\n",
    "    target_entity = \"business\",\n",
    "    cutoff_time = cutoff_times)\n",
    "feature_matrix, features = ft.encode_features(feature_matrix, feature_definitions)\n"
   ]
  },
  {
   "cell_type": "markdown",
   "metadata": {},
   "source": [
    "## Logistic Regression Fitting and Prediciton"
   ]
  },
  {
   "cell_type": "code",
   "execution_count": 5,
   "metadata": {},
   "outputs": [
    {
     "name": "stdout",
     "output_type": "stream",
     "text": [
      "Classifier Accuracy: 0.9966\n",
      "Baseline Accuracy Metric: 0.9966, based on using training_labels as the prediction\n"
     ]
    },
    {
     "data": {
      "image/png": "[encoded data removed]",
      "text/plain": [
       "<Figure size 432x288 with 1 Axes>"
      ]
     },
     "metadata": {},
     "output_type": "display_data"
    }
   ],
   "source": [
    "logistic = linear_model.LogisticRegression()\n",
    "\n",
    "#Note:\n",
    "# Because some businesses are not contained in the checkin dataset and some rows were dropped\n",
    "# due to having None values in the precutoff time data after applying the Prediction Problem.\n",
    "training_features = feature_matrix[feature_matrix.index.isin(first_label.business_id)]\n",
    "training_labels = list(first_label['problem_label_excluding_data_post_cutoff_time'])\n",
    "true_labels = first_label['problem_label_all_data']\n",
    "\n",
    "logistic.fit(training_features, training_labels)\n",
    "predicted_labels = logistic.predict(training_features)\n",
    "predicted_probabilities = logistic.predict_proba(training_features)\n",
    "\n",
    "accuracy = accuracy_score(true_labels, predicted_labels)\n",
    "print(\"Classifier Accuracy: {0:.4f}\".format(accuracy, prediction_problem))\n",
    "\n",
    "accuracy_no_prediction = accuracy_score(training_labels, predicted_labels)\n",
    "print(\"Baseline Accuracy Metric: {0:.4f}, based on using training_labels as the prediction\".format(accuracy, prediction_problem))\n",
    "\n",
    "skplt.metrics.plot_roc_curve(true_labels, predicted_probabilities)\n",
    "plt.show()"
   ]
  },
  {
   "cell_type": "code",
   "execution_count": null,
   "metadata": {},
   "outputs": [],
   "source": []
  }
 ],
 "metadata": {
  "kernelspec": {
   "display_name": "Python 3",
   "language": "python",
   "name": "python3"
  },
  "language_info": {
   "codemirror_mode": {
    "name": "ipython",
    "version": 3
   },
   "file_extension": ".py",
   "mimetype": "text/x-python",
   "name": "python",
   "nbconvert_exporter": "python",
   "pygments_lexer": "ipython3",
   "version": "3.6.1"
  }
 },
 "nbformat": 4,
 "nbformat_minor": 2
}
